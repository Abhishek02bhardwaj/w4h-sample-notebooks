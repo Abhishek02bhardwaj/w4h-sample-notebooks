{
 "cells": [
  {
   "cell_type": "markdown",
   "metadata": {},
   "source": []
  },
  {
   "cell_type": "code",
   "execution_count": 1,
   "metadata": {},
   "outputs": [
    {
     "name": "stdout",
     "output_type": "stream",
     "text": [
      "Requirement already satisfied: pandas in c:\\python 3.11\\lib\\site-packages (1.5.3)\n",
      "Requirement already satisfied: python-dateutil>=2.8.1 in c:\\python 3.11\\lib\\site-packages (from pandas) (2.8.2)\n",
      "Requirement already satisfied: pytz>=2020.1 in c:\\python 3.11\\lib\\site-packages (from pandas) (2022.7.1)\n",
      "Requirement already satisfied: numpy>=1.21.0 in c:\\python 3.11\\lib\\site-packages (from pandas) (1.23.5)\n",
      "Requirement already satisfied: six>=1.5 in c:\\python 3.11\\lib\\site-packages (from python-dateutil>=2.8.1->pandas) (1.16.0)\n",
      "Note: you may need to restart the kernel to use updated packages.\n"
     ]
    },
    {
     "name": "stderr",
     "output_type": "stream",
     "text": [
      "\n",
      "[notice] A new release of pip is available: 23.1.2 -> 24.0\n",
      "[notice] To update, run: python.exe -m pip install --upgrade pip\n"
     ]
    }
   ],
   "source": [
    "%pip install pandas"
   ]
  },
  {
   "cell_type": "code",
   "execution_count": 2,
   "metadata": {},
   "outputs": [
    {
     "name": "stdout",
     "output_type": "stream",
     "text": [
      "Requirement already satisfied: pyspark in c:\\python 3.11\\lib\\site-packages (3.5.1)\n",
      "Requirement already satisfied: py4j==0.10.9.7 in c:\\python 3.11\\lib\\site-packages (from pyspark) (0.10.9.7)\n",
      "Note: you may need to restart the kernel to use updated packages.\n"
     ]
    },
    {
     "name": "stderr",
     "output_type": "stream",
     "text": [
      "\n",
      "[notice] A new release of pip is available: 23.1.2 -> 24.0\n",
      "[notice] To update, run: python.exe -m pip install --upgrade pip\n"
     ]
    }
   ],
   "source": [
    "%pip install pyspark"
   ]
  },
  {
   "cell_type": "code",
   "execution_count": 3,
   "metadata": {},
   "outputs": [
    {
     "name": "stdout",
     "output_type": "stream",
     "text": [
      "Note: you may need to restart the kernel to use updated packages.Requirement already satisfied: flask in c:\\python 3.11\\lib\\site-packages (3.0.3)\n",
      "Requirement already satisfied: Werkzeug>=3.0.0 in c:\\python 3.11\\lib\\site-packages (from flask) (3.0.1)\n",
      "Requirement already satisfied: Jinja2>=3.1.2 in c:\\python 3.11\\lib\\site-packages (from flask) (3.1.2)\n",
      "Requirement already satisfied: itsdangerous>=2.1.2 in c:\\python 3.11\\lib\\site-packages (from flask) (2.2.0)\n",
      "Requirement already satisfied: click>=8.1.3 in c:\\python 3.11\\lib\\site-packages (from flask) (8.1.3)\n",
      "Requirement already satisfied: blinker>=1.6.2 in c:\\python 3.11\\lib\\site-packages (from flask) (1.8.2)\n",
      "Requirement already satisfied: colorama in c:\\python 3.11\\lib\\site-packages (from click>=8.1.3->flask) (0.4.6)\n",
      "Requirement already satisfied: MarkupSafe>=2.0 in c:\\python 3.11\\lib\\site-packages (from Jinja2>=3.1.2->flask) (2.1.3)\n",
      "\n"
     ]
    },
    {
     "name": "stderr",
     "output_type": "stream",
     "text": [
      "\n",
      "[notice] A new release of pip is available: 23.1.2 -> 24.0\n",
      "[notice] To update, run: python.exe -m pip install --upgrade pip\n"
     ]
    }
   ],
   "source": [
    "%pip install flask"
   ]
  },
  {
   "cell_type": "code",
   "execution_count": 4,
   "metadata": {},
   "outputs": [],
   "source": [
    "import pandas as pd\n",
    "from datetime import datetime, timedelta\n",
    "from pyspark.sql import SparkSession\n",
    "from pyspark.sql.functions import concat_ws, to_timestamp, col, to_date, struct, collect_list\n",
    "from flask import Flask, request, jsonify\n",
    "import threading"
   ]
  },
  {
   "cell_type": "code",
   "execution_count": 5,
   "metadata": {},
   "outputs": [],
   "source": [
    "def load_csv(file_path):\n",
    "    data = pd.read_csv(file_path)\n",
    "    data['timestamp'] = pd.to_datetime(data['date'] + ' ' + data['time'])\n",
    "    return data"
   ]
  },
  {
   "cell_type": "code",
   "execution_count": 6,
   "metadata": {},
   "outputs": [],
   "source": [
    "def load_from_db(db_url, query):\n",
    "    spark = SparkSession.builder \\\n",
    "        .appName(\"Compliance Analysis\") \\\n",
    "        .getOrCreate()\n",
    "    df = spark.read.format(\"jdbc\").option(\"url\", db_url).option(\"query\", query).load()\n",
    "    df = df.withColumn(\"timestamp\", to_timestamp(concat_ws(' ', df['date'], df['time'])))\n",
    "    return df"
   ]
  },
  {
   "cell_type": "code",
   "execution_count": 7,
   "metadata": {},
   "outputs": [],
   "source": [
    "import logging\n",
    "from datetime import datetime, timedelta\n",
    "\n",
    "# Configure logging\n",
    "logging.basicConfig(level=logging.DEBUG)\n",
    "\n",
    "def calculate_compliance_logic(user_groups, time_ranges, daily_compliance_hours, overall_compliance_percentage):\n",
    "    def calculate_total_time_span(time_ranges):\n",
    "        total_time = timedelta()\n",
    "        for from_time, to_time in time_ranges:\n",
    "            from_time = datetime.strptime(from_time, '%H:%M')\n",
    "            to_time = datetime.strptime(to_time, '%H:%M')\n",
    "            total_time += (to_time - from_time)\n",
    "        return total_time.total_seconds() / 3600\n",
    "\n",
    "    user_compliance = {}\n",
    "    compliant_users_data = []\n",
    "\n",
    "    total_time_span = calculate_total_time_span(time_ranges) * 60  # Convert hours to minutes\n",
    "    daily_compliance_minutes = daily_compliance_hours * 60  # Convert hours to minutes\n",
    "\n",
    "    for user_id, user_data in user_groups:\n",
    "        daily_compliance = []\n",
    "        compliant_days = []\n",
    "\n",
    "        if not isinstance(user_data, pd.DataFrame):\n",
    "            user_data = user_data.toPandas()\n",
    "\n",
    "        for date, group in user_data.groupby('date'):\n",
    "            total_active_minutes = 0\n",
    "            for from_time, to_time in time_ranges:\n",
    "                from_time = datetime.combine(date, datetime.strptime(from_time, '%H:%M').time())\n",
    "                to_time = datetime.combine(date, datetime.strptime(to_time, '%H:%M').time())\n",
    "\n",
    "                day_data = group[(group['timestamp'] >= from_time) & (group['timestamp'] <= to_time) & (group['heart_rate'] != 0)]\n",
    "                total_active_minutes += len(day_data) if not day_data.empty else 0\n",
    "\n",
    "            daily_compliance_percentage = (total_active_minutes / total_time_span) * 100\n",
    "            daily_compliance.append({\n",
    "                'date': date,\n",
    "                'compliance_hours': total_active_minutes / 60,\n",
    "                'compliance_percentage': daily_compliance_percentage\n",
    "            })\n",
    "\n",
    "            if total_active_minutes >= daily_compliance_minutes:\n",
    "                compliant_days.append(date)\n",
    "                compliant_users_data.append(group[group['date'] == date])\n",
    "\n",
    "        results_df = pd.DataFrame(daily_compliance)\n",
    "        total_days = len(results_df)\n",
    "        compliant_days_count = len(compliant_days)\n",
    "        overall_compliance_percentage_calc = (compliant_days_count / total_days) * 100 if total_days > 0 else 0\n",
    "\n",
    "        user_compliance[user_id] = {\n",
    "            'compliance_report': {\n",
    "                'daily_compliance': results_df.to_dict(orient='records'),\n",
    "                'overall_compliance_percentage': overall_compliance_percentage_calc,\n",
    "                'is_compliant': overall_compliance_percentage_calc >= overall_compliance_percentage\n",
    "            },\n",
    "            'compliant_data': pd.concat(compliant_users_data).to_dict(orient='records') if compliant_users_data else []\n",
    "        }\n",
    "\n",
    "        logging.debug(f\"Processed user_id: {user_id}, compliance_report: {user_compliance[user_id]['compliance_report']}\")\n",
    "\n",
    "    return user_compliance\n"
   ]
  },
  {
   "cell_type": "code",
   "execution_count": 8,
   "metadata": {},
   "outputs": [],
   "source": [
    "def calculate_compliance_from_csv(file_path, time_ranges, daily_compliance_hours, overall_compliance_percentage):\n",
    "    data = load_csv(file_path)\n",
    "    data['date'] = data['timestamp'].dt.date\n",
    "    user_groups = data.groupby('user_id')\n",
    "    return calculate_compliance_logic(user_groups, time_ranges, daily_compliance_hours, overall_compliance_percentage)"
   ]
  },
  {
   "cell_type": "code",
   "execution_count": 9,
   "metadata": {},
   "outputs": [],
   "source": [
    "def calculate_compliance_from_db(db_url, query, time_ranges, daily_compliance_hours, overall_compliance_percentage):\n",
    "    df = load_from_db(db_url, query)\n",
    "    df = df.withColumn('date', to_date('timestamp'))\n",
    "    user_groups = [(row['user_id'], row) for row in df.groupBy('user_id').agg(collect_list(struct('timestamp', 'date', 'heart_rate')).alias('data')).collect()]\n",
    "    user_groups = [(user_id, pd.DataFrame(data)) for user_id, data in user_groups]\n",
    "    return calculate_compliance_logic(user_groups, time_ranges, daily_compliance_hours, overall_compliance_percentage)"
   ]
  },
  {
   "cell_type": "code",
   "execution_count": 10,
   "metadata": {},
   "outputs": [],
   "source": [
    "from flask import Flask, request, jsonify\n",
    "import threading\n",
    "\n",
    "app = Flask(__name__)\n",
    "\n",
    "@app.route('/calculate_compliance', methods=['POST'])\n",
    "def calculate_compliance_api():\n",
    "    source_type = request.json.get('source_type')\n",
    "    time_ranges = request.json.get('time_ranges')\n",
    "    daily_compliance_hours = request.json.get('daily_compliance_hours')\n",
    "    overall_compliance_percentage = request.json.get('overall_compliance_percentage')\n",
    "    \n",
    "    logging.debug(f\"Received request with source_type: {source_type}, time_ranges: {time_ranges}, \"\n",
    "                  f\"daily_compliance_hours: {daily_compliance_hours}, overall_compliance_percentage: {overall_compliance_percentage}\")\n",
    "    \n",
    "    if source_type == 'csv':\n",
    "        file_path = request.json.get('file_path')\n",
    "        results = calculate_compliance_from_csv(file_path, time_ranges, daily_compliance_hours, overall_compliance_percentage)\n",
    "    elif source_type == 'db':\n",
    "        db_url = request.json.get('db_url')\n",
    "        query = request.json.get('query')\n",
    "        results = calculate_compliance_from_db(db_url, query, time_ranges, daily_compliance_hours, overall_compliance_percentage)\n",
    "    else:\n",
    "        return jsonify({'error': 'Invalid source type'}), 400\n",
    "\n",
    "    logging.debug(f\"Results: {results}\")\n",
    "    return jsonify(results)\n",
    "\n",
    "# Function to run the Flask app in a separate thread\n",
    "def run_app():\n",
    "    app.run(debug=True, use_reloader=False)\n",
    "\n",
    "# Start the Flask app\n",
    "thread = threading.Thread(target=run_app)\n",
    "thread.start()\n"
   ]
  },
  {
   "cell_type": "code",
   "execution_count": 12,
   "metadata": {},
   "outputs": [
    {
     "name": "stderr",
     "output_type": "stream",
     "text": [
      "DEBUG:root:Sending request to http://127.0.0.1:5000/calculate_compliance with payload: {'source_type': 'csv', 'file_path': 'sampleHeartRateData.csv', 'time_ranges': [['08:00', '12:00'], ['14:00', '18:00']], 'daily_compliance_hours': 4, 'overall_compliance_percentage': 80}\n",
      "DEBUG:urllib3.connectionpool:Starting new HTTP connection (1): 127.0.0.1:5000\n",
      "DEBUG:root:Received request with source_type: csv, time_ranges: [['08:00', '12:00'], ['14:00', '18:00']], daily_compliance_hours: 4, overall_compliance_percentage: 80\n",
      "DEBUG:root:Processed user_id: 02f77d2, compliance_report: {'daily_compliance': [{'date': datetime.date(2018, 7, 12), 'compliance_hours': 2.05, 'compliance_percentage': 25.624999999999996}, {'date': datetime.date(2018, 7, 13), 'compliance_hours': 7.25, 'compliance_percentage': 90.625}, {'date': datetime.date(2018, 7, 14), 'compliance_hours': 3.65, 'compliance_percentage': 45.625}, {'date': datetime.date(2018, 7, 20), 'compliance_hours': 0.03333333333333333, 'compliance_percentage': 0.4166666666666667}, {'date': datetime.date(2018, 7, 23), 'compliance_hours': 0.16666666666666666, 'compliance_percentage': 2.083333333333333}, {'date': datetime.date(2018, 8, 16), 'compliance_hours': 0.35, 'compliance_percentage': 4.375}, {'date': datetime.date(2018, 8, 17), 'compliance_hours': 0.016666666666666666, 'compliance_percentage': 0.20833333333333334}, {'date': datetime.date(2018, 8, 18), 'compliance_hours': 0.0, 'compliance_percentage': 0.0}, {'date': datetime.date(2018, 8, 27), 'compliance_hours': 0.0, 'compliance_percentage': 0.0}, {'date': datetime.date(2018, 8, 28), 'compliance_hours': 0.0, 'compliance_percentage': 0.0}, {'date': datetime.date(2018, 10, 13), 'compliance_hours': 3.4166666666666665, 'compliance_percentage': 42.70833333333333}, {'date': datetime.date(2018, 10, 14), 'compliance_hours': 7.25, 'compliance_percentage': 90.625}, {'date': datetime.date(2018, 10, 15), 'compliance_hours': 7.083333333333333, 'compliance_percentage': 88.54166666666666}, {'date': datetime.date(2018, 10, 16), 'compliance_hours': 7.166666666666667, 'compliance_percentage': 89.58333333333334}, {'date': datetime.date(2018, 10, 17), 'compliance_hours': 7.433333333333334, 'compliance_percentage': 92.91666666666667}, {'date': datetime.date(2018, 10, 18), 'compliance_hours': 8.033333333333333, 'compliance_percentage': 100.41666666666667}, {'date': datetime.date(2018, 10, 19), 'compliance_hours': 6.533333333333333, 'compliance_percentage': 81.66666666666667}, {'date': datetime.date(2018, 10, 20), 'compliance_hours': 8.033333333333333, 'compliance_percentage': 100.41666666666667}, {'date': datetime.date(2018, 10, 21), 'compliance_hours': 8.033333333333333, 'compliance_percentage': 100.41666666666667}, {'date': datetime.date(2018, 10, 22), 'compliance_hours': 8.033333333333333, 'compliance_percentage': 100.41666666666667}, {'date': datetime.date(2018, 10, 23), 'compliance_hours': 5.233333333333333, 'compliance_percentage': 65.41666666666667}, {'date': datetime.date(2018, 10, 24), 'compliance_hours': 6.233333333333333, 'compliance_percentage': 77.91666666666667}, {'date': datetime.date(2018, 10, 25), 'compliance_hours': 8.016666666666667, 'compliance_percentage': 100.20833333333334}, {'date': datetime.date(2018, 10, 26), 'compliance_hours': 7.266666666666667, 'compliance_percentage': 90.83333333333333}, {'date': datetime.date(2018, 10, 27), 'compliance_hours': 6.833333333333333, 'compliance_percentage': 85.41666666666666}, {'date': datetime.date(2018, 10, 28), 'compliance_hours': 8.016666666666667, 'compliance_percentage': 100.20833333333334}, {'date': datetime.date(2018, 10, 29), 'compliance_hours': 6.383333333333334, 'compliance_percentage': 79.79166666666667}, {'date': datetime.date(2018, 10, 30), 'compliance_hours': 0.35, 'compliance_percentage': 4.375}, {'date': datetime.date(2018, 10, 31), 'compliance_hours': 7.716666666666667, 'compliance_percentage': 96.45833333333333}, {'date': datetime.date(2018, 11, 1), 'compliance_hours': 5.6, 'compliance_percentage': 70.0}, {'date': datetime.date(2018, 11, 2), 'compliance_hours': 5.366666666666666, 'compliance_percentage': 67.08333333333333}, {'date': datetime.date(2018, 11, 3), 'compliance_hours': 8.0, 'compliance_percentage': 100.0}, {'date': datetime.date(2018, 11, 4), 'compliance_hours': 6.666666666666667, 'compliance_percentage': 83.33333333333334}, {'date': datetime.date(2018, 11, 5), 'compliance_hours': 4.883333333333334, 'compliance_percentage': 61.04166666666667}, {'date': datetime.date(2018, 11, 6), 'compliance_hours': 5.9, 'compliance_percentage': 73.75}, {'date': datetime.date(2018, 11, 7), 'compliance_hours': 4.166666666666667, 'compliance_percentage': 52.083333333333336}, {'date': datetime.date(2018, 11, 8), 'compliance_hours': 3.8833333333333333, 'compliance_percentage': 48.541666666666664}, {'date': datetime.date(2018, 11, 9), 'compliance_hours': 7.983333333333333, 'compliance_percentage': 99.79166666666667}, {'date': datetime.date(2018, 11, 10), 'compliance_hours': 5.45, 'compliance_percentage': 68.125}, {'date': datetime.date(2018, 11, 11), 'compliance_hours': 8.033333333333333, 'compliance_percentage': 100.41666666666667}, {'date': datetime.date(2018, 11, 12), 'compliance_hours': 8.033333333333333, 'compliance_percentage': 100.41666666666667}, {'date': datetime.date(2018, 11, 13), 'compliance_hours': 5.7, 'compliance_percentage': 71.25}, {'date': datetime.date(2018, 11, 14), 'compliance_hours': 7.55, 'compliance_percentage': 94.375}, {'date': datetime.date(2018, 11, 15), 'compliance_hours': 8.016666666666667, 'compliance_percentage': 100.20833333333334}, {'date': datetime.date(2018, 11, 16), 'compliance_hours': 7.45, 'compliance_percentage': 93.125}, {'date': datetime.date(2018, 11, 17), 'compliance_hours': 6.116666666666666, 'compliance_percentage': 76.45833333333333}, {'date': datetime.date(2018, 11, 18), 'compliance_hours': 7.5, 'compliance_percentage': 93.75}, {'date': datetime.date(2018, 11, 19), 'compliance_hours': 5.516666666666667, 'compliance_percentage': 68.95833333333333}, {'date': datetime.date(2018, 11, 20), 'compliance_hours': 5.033333333333333, 'compliance_percentage': 62.916666666666664}, {'date': datetime.date(2018, 11, 21), 'compliance_hours': 7.55, 'compliance_percentage': 94.375}, {'date': datetime.date(2018, 11, 22), 'compliance_hours': 6.166666666666667, 'compliance_percentage': 77.08333333333334}, {'date': datetime.date(2018, 11, 23), 'compliance_hours': 6.133333333333334, 'compliance_percentage': 76.66666666666667}, {'date': datetime.date(2018, 11, 24), 'compliance_hours': 5.716666666666667, 'compliance_percentage': 71.45833333333333}, {'date': datetime.date(2018, 11, 25), 'compliance_hours': 8.033333333333333, 'compliance_percentage': 100.41666666666667}, {'date': datetime.date(2018, 11, 26), 'compliance_hours': 5.016666666666667, 'compliance_percentage': 62.708333333333336}, {'date': datetime.date(2018, 11, 27), 'compliance_hours': 0.7666666666666667, 'compliance_percentage': 9.583333333333334}, {'date': datetime.date(2018, 11, 28), 'compliance_hours': 5.233333333333333, 'compliance_percentage': 65.41666666666667}, {'date': datetime.date(2018, 11, 29), 'compliance_hours': 8.016666666666667, 'compliance_percentage': 100.20833333333334}, {'date': datetime.date(2018, 11, 30), 'compliance_hours': 5.35, 'compliance_percentage': 66.875}, {'date': datetime.date(2018, 12, 1), 'compliance_hours': 6.45, 'compliance_percentage': 80.625}, {'date': datetime.date(2018, 12, 2), 'compliance_hours': 3.933333333333333, 'compliance_percentage': 49.166666666666664}, {'date': datetime.date(2018, 12, 3), 'compliance_hours': 6.333333333333333, 'compliance_percentage': 79.16666666666666}, {'date': datetime.date(2018, 12, 4), 'compliance_hours': 7.6, 'compliance_percentage': 95.0}, {'date': datetime.date(2018, 12, 5), 'compliance_hours': 7.433333333333334, 'compliance_percentage': 92.91666666666667}, {'date': datetime.date(2018, 12, 6), 'compliance_hours': 3.7, 'compliance_percentage': 46.25}, {'date': datetime.date(2018, 12, 7), 'compliance_hours': 5.866666666666666, 'compliance_percentage': 73.33333333333333}, {'date': datetime.date(2018, 12, 8), 'compliance_hours': 1.5833333333333333, 'compliance_percentage': 19.791666666666664}], 'overall_compliance_percentage': 76.11940298507463, 'is_compliant': False}\n",
      "DEBUG:root:Processed user_id: 175308d, compliance_report: {'daily_compliance': [{'date': datetime.date(2016, 10, 9), 'compliance_hours': 0.06666666666666667, 'compliance_percentage': 0.8333333333333334}, {'date': datetime.date(2016, 10, 10), 'compliance_hours': 1.9833333333333334, 'compliance_percentage': 24.791666666666668}, {'date': datetime.date(2016, 10, 11), 'compliance_hours': 0.9333333333333333, 'compliance_percentage': 11.666666666666666}, {'date': datetime.date(2016, 10, 14), 'compliance_hours': 7.133333333333334, 'compliance_percentage': 89.16666666666667}, {'date': datetime.date(2016, 10, 15), 'compliance_hours': 3.6, 'compliance_percentage': 45.0}, {'date': datetime.date(2016, 10, 16), 'compliance_hours': 4.066666666666666, 'compliance_percentage': 50.83333333333333}, {'date': datetime.date(2016, 10, 17), 'compliance_hours': 7.45, 'compliance_percentage': 93.125}, {'date': datetime.date(2016, 10, 18), 'compliance_hours': 5.05, 'compliance_percentage': 63.125}, {'date': datetime.date(2016, 10, 19), 'compliance_hours': 7.366666666666666, 'compliance_percentage': 92.08333333333333}, {'date': datetime.date(2016, 10, 22), 'compliance_hours': 3.35, 'compliance_percentage': 41.875}, {'date': datetime.date(2016, 10, 24), 'compliance_hours': 3.5166666666666666, 'compliance_percentage': 43.958333333333336}, {'date': datetime.date(2016, 10, 25), 'compliance_hours': 2.183333333333333, 'compliance_percentage': 27.291666666666664}], 'overall_compliance_percentage': 41.66666666666667, 'is_compliant': False}\n",
      "DEBUG:root:Processed user_id: 47b42bc, compliance_report: {'daily_compliance': [{'date': datetime.date(2020, 4, 7), 'compliance_hours': 4.0, 'compliance_percentage': 50.0}, {'date': datetime.date(2020, 4, 8), 'compliance_hours': 3.4833333333333334, 'compliance_percentage': 43.541666666666664}, {'date': datetime.date(2020, 4, 10), 'compliance_hours': 0.8166666666666667, 'compliance_percentage': 10.208333333333334}, {'date': datetime.date(2020, 4, 11), 'compliance_hours': 0.03333333333333333, 'compliance_percentage': 0.4166666666666667}, {'date': datetime.date(2020, 4, 12), 'compliance_hours': 0.08333333333333333, 'compliance_percentage': 1.0416666666666665}, {'date': datetime.date(2020, 9, 4), 'compliance_hours': 0.1, 'compliance_percentage': 1.25}, {'date': datetime.date(2020, 9, 7), 'compliance_hours': 0.0, 'compliance_percentage': 0.0}], 'overall_compliance_percentage': 14.285714285714285, 'is_compliant': False}\n",
      "DEBUG:root:Processed user_id: a8368a2, compliance_report: {'daily_compliance': [{'date': datetime.date(2016, 12, 10), 'compliance_hours': 0.15, 'compliance_percentage': 1.875}, {'date': datetime.date(2016, 12, 11), 'compliance_hours': 0.0, 'compliance_percentage': 0.0}, {'date': datetime.date(2016, 12, 14), 'compliance_hours': 0.03333333333333333, 'compliance_percentage': 0.4166666666666667}, {'date': datetime.date(2016, 12, 15), 'compliance_hours': 0.4166666666666667, 'compliance_percentage': 5.208333333333334}, {'date': datetime.date(2016, 12, 21), 'compliance_hours': 4.533333333333333, 'compliance_percentage': 56.666666666666664}, {'date': datetime.date(2016, 12, 22), 'compliance_hours': 7.266666666666667, 'compliance_percentage': 90.83333333333333}, {'date': datetime.date(2016, 12, 23), 'compliance_hours': 7.366666666666666, 'compliance_percentage': 92.08333333333333}, {'date': datetime.date(2016, 12, 24), 'compliance_hours': 7.366666666666666, 'compliance_percentage': 92.08333333333333}, {'date': datetime.date(2016, 12, 25), 'compliance_hours': 0.2, 'compliance_percentage': 2.5}, {'date': datetime.date(2016, 12, 28), 'compliance_hours': 5.766666666666667, 'compliance_percentage': 72.08333333333333}, {'date': datetime.date(2016, 12, 29), 'compliance_hours': 8.033333333333333, 'compliance_percentage': 100.41666666666667}, {'date': datetime.date(2016, 12, 30), 'compliance_hours': 7.533333333333333, 'compliance_percentage': 94.16666666666667}, {'date': datetime.date(2016, 12, 31), 'compliance_hours': 8.033333333333333, 'compliance_percentage': 100.41666666666667}, {'date': datetime.date(2017, 1, 1), 'compliance_hours': 8.033333333333333, 'compliance_percentage': 100.41666666666667}, {'date': datetime.date(2017, 1, 2), 'compliance_hours': 6.616666666666666, 'compliance_percentage': 82.70833333333333}, {'date': datetime.date(2017, 1, 3), 'compliance_hours': 3.1666666666666665, 'compliance_percentage': 39.58333333333333}, {'date': datetime.date(2017, 1, 4), 'compliance_hours': 0.0, 'compliance_percentage': 0.0}, {'date': datetime.date(2017, 1, 5), 'compliance_hours': 7.966666666666667, 'compliance_percentage': 99.58333333333333}, {'date': datetime.date(2017, 1, 6), 'compliance_hours': 5.483333333333333, 'compliance_percentage': 68.54166666666667}, {'date': datetime.date(2017, 1, 7), 'compliance_hours': 7.766666666666667, 'compliance_percentage': 97.08333333333333}, {'date': datetime.date(2017, 1, 8), 'compliance_hours': 7.816666666666666, 'compliance_percentage': 97.70833333333333}, {'date': datetime.date(2017, 1, 9), 'compliance_hours': 7.966666666666667, 'compliance_percentage': 99.58333333333333}, {'date': datetime.date(2017, 1, 10), 'compliance_hours': 7.966666666666667, 'compliance_percentage': 99.58333333333333}, {'date': datetime.date(2017, 1, 11), 'compliance_hours': 8.016666666666667, 'compliance_percentage': 100.20833333333334}, {'date': datetime.date(2017, 1, 12), 'compliance_hours': 8.016666666666667, 'compliance_percentage': 100.20833333333334}, {'date': datetime.date(2017, 1, 13), 'compliance_hours': 7.583333333333333, 'compliance_percentage': 94.79166666666666}, {'date': datetime.date(2017, 1, 14), 'compliance_hours': 8.033333333333333, 'compliance_percentage': 100.41666666666667}, {'date': datetime.date(2017, 1, 15), 'compliance_hours': 4.133333333333334, 'compliance_percentage': 51.66666666666667}, {'date': datetime.date(2017, 1, 16), 'compliance_hours': 7.55, 'compliance_percentage': 94.375}, {'date': datetime.date(2017, 1, 17), 'compliance_hours': 8.033333333333333, 'compliance_percentage': 100.41666666666667}, {'date': datetime.date(2017, 1, 18), 'compliance_hours': 8.016666666666667, 'compliance_percentage': 100.20833333333334}, {'date': datetime.date(2017, 1, 19), 'compliance_hours': 7.966666666666667, 'compliance_percentage': 99.58333333333333}, {'date': datetime.date(2017, 1, 20), 'compliance_hours': 7.766666666666667, 'compliance_percentage': 97.08333333333333}, {'date': datetime.date(2017, 1, 21), 'compliance_hours': 8.033333333333333, 'compliance_percentage': 100.41666666666667}, {'date': datetime.date(2017, 1, 22), 'compliance_hours': 7.416666666666667, 'compliance_percentage': 92.70833333333334}, {'date': datetime.date(2017, 1, 23), 'compliance_hours': 8.033333333333333, 'compliance_percentage': 100.41666666666667}, {'date': datetime.date(2017, 1, 24), 'compliance_hours': 7.983333333333333, 'compliance_percentage': 99.79166666666667}, {'date': datetime.date(2017, 1, 25), 'compliance_hours': 7.983333333333333, 'compliance_percentage': 99.79166666666667}, {'date': datetime.date(2017, 1, 26), 'compliance_hours': 8.033333333333333, 'compliance_percentage': 100.41666666666667}, {'date': datetime.date(2017, 1, 27), 'compliance_hours': 7.183333333333334, 'compliance_percentage': 89.79166666666667}, {'date': datetime.date(2017, 1, 28), 'compliance_hours': 7.866666666666666, 'compliance_percentage': 98.33333333333333}, {'date': datetime.date(2017, 1, 29), 'compliance_hours': 7.083333333333333, 'compliance_percentage': 88.54166666666666}, {'date': datetime.date(2017, 1, 30), 'compliance_hours': 7.666666666666667, 'compliance_percentage': 95.83333333333334}, {'date': datetime.date(2017, 1, 31), 'compliance_hours': 0.08333333333333333, 'compliance_percentage': 1.0416666666666665}, {'date': datetime.date(2017, 2, 1), 'compliance_hours': 8.033333333333333, 'compliance_percentage': 100.41666666666667}, {'date': datetime.date(2017, 2, 2), 'compliance_hours': 8.033333333333333, 'compliance_percentage': 100.41666666666667}, {'date': datetime.date(2017, 2, 3), 'compliance_hours': 7.983333333333333, 'compliance_percentage': 99.79166666666667}, {'date': datetime.date(2017, 2, 4), 'compliance_hours': 8.016666666666667, 'compliance_percentage': 100.20833333333334}, {'date': datetime.date(2017, 2, 5), 'compliance_hours': 8.0, 'compliance_percentage': 100.0}, {'date': datetime.date(2017, 2, 6), 'compliance_hours': 8.033333333333333, 'compliance_percentage': 100.41666666666667}, {'date': datetime.date(2017, 2, 7), 'compliance_hours': 8.033333333333333, 'compliance_percentage': 100.41666666666667}, {'date': datetime.date(2017, 2, 8), 'compliance_hours': 8.016666666666667, 'compliance_percentage': 100.20833333333334}, {'date': datetime.date(2017, 2, 9), 'compliance_hours': 7.8, 'compliance_percentage': 97.5}, {'date': datetime.date(2017, 2, 10), 'compliance_hours': 7.733333333333333, 'compliance_percentage': 96.66666666666667}, {'date': datetime.date(2017, 2, 11), 'compliance_hours': 0.0, 'compliance_percentage': 0.0}, {'date': datetime.date(2017, 2, 13), 'compliance_hours': 8.016666666666667, 'compliance_percentage': 100.20833333333334}, {'date': datetime.date(2017, 2, 14), 'compliance_hours': 8.0, 'compliance_percentage': 100.0}, {'date': datetime.date(2017, 2, 15), 'compliance_hours': 7.95, 'compliance_percentage': 99.375}, {'date': datetime.date(2017, 2, 16), 'compliance_hours': 7.833333333333333, 'compliance_percentage': 97.91666666666666}, {'date': datetime.date(2017, 2, 17), 'compliance_hours': 7.783333333333333, 'compliance_percentage': 97.29166666666667}, {'date': datetime.date(2017, 2, 18), 'compliance_hours': 8.033333333333333, 'compliance_percentage': 100.41666666666667}, {'date': datetime.date(2017, 2, 19), 'compliance_hours': 4.05, 'compliance_percentage': 50.625}, {'date': datetime.date(2017, 2, 20), 'compliance_hours': 7.983333333333333, 'compliance_percentage': 99.79166666666667}, {'date': datetime.date(2017, 2, 21), 'compliance_hours': 7.733333333333333, 'compliance_percentage': 96.66666666666667}, {'date': datetime.date(2017, 2, 22), 'compliance_hours': 2.2666666666666666, 'compliance_percentage': 28.333333333333332}, {'date': datetime.date(2017, 2, 23), 'compliance_hours': 7.966666666666667, 'compliance_percentage': 99.58333333333333}, {'date': datetime.date(2017, 2, 24), 'compliance_hours': 7.5, 'compliance_percentage': 93.75}, {'date': datetime.date(2017, 2, 25), 'compliance_hours': 8.033333333333333, 'compliance_percentage': 100.41666666666667}, {'date': datetime.date(2017, 2, 26), 'compliance_hours': 7.916666666666667, 'compliance_percentage': 98.95833333333334}, {'date': datetime.date(2017, 2, 27), 'compliance_hours': 8.033333333333333, 'compliance_percentage': 100.41666666666667}, {'date': datetime.date(2017, 2, 28), 'compliance_hours': 7.866666666666666, 'compliance_percentage': 98.33333333333333}, {'date': datetime.date(2017, 3, 1), 'compliance_hours': 0.0, 'compliance_percentage': 0.0}, {'date': datetime.date(2017, 3, 4), 'compliance_hours': 0.0, 'compliance_percentage': 0.0}, {'date': datetime.date(2017, 3, 9), 'compliance_hours': 2.2, 'compliance_percentage': 27.500000000000004}, {'date': datetime.date(2017, 3, 10), 'compliance_hours': 6.483333333333333, 'compliance_percentage': 81.04166666666667}, {'date': datetime.date(2017, 3, 11), 'compliance_hours': 7.866666666666666, 'compliance_percentage': 98.33333333333333}, {'date': datetime.date(2017, 3, 12), 'compliance_hours': 7.933333333333334, 'compliance_percentage': 99.16666666666667}, {'date': datetime.date(2017, 3, 13), 'compliance_hours': 1.95, 'compliance_percentage': 24.375}], 'overall_compliance_percentage': 82.05128205128204, 'is_compliant': True}\n",
      "DEBUG:root:Processed user_id: d6a5c18, compliance_report: {'daily_compliance': [{'date': datetime.date(2016, 3, 23), 'compliance_hours': 4.016666666666667, 'compliance_percentage': 50.208333333333336}, {'date': datetime.date(2016, 3, 24), 'compliance_hours': 3.4833333333333334, 'compliance_percentage': 43.541666666666664}, {'date': datetime.date(2016, 3, 25), 'compliance_hours': 0.0, 'compliance_percentage': 0.0}, {'date': datetime.date(2016, 3, 26), 'compliance_hours': 1.8, 'compliance_percentage': 22.5}, {'date': datetime.date(2016, 3, 27), 'compliance_hours': 0.21666666666666667, 'compliance_percentage': 2.7083333333333335}, {'date': datetime.date(2016, 3, 28), 'compliance_hours': 0.08333333333333333, 'compliance_percentage': 1.0416666666666665}], 'overall_compliance_percentage': 16.666666666666664, 'is_compliant': False}\n"
     ]
    }
   ],
   "source": [
    "import requests\n",
    "import json\n",
    "import logging\n",
    "\n",
    "# Configure logging\n",
    "logging.basicConfig(level=logging.DEBUG)\n",
    "\n",
    "# Define the URL for the API endpoint\n",
    "url = 'http://127.0.0.1:5000/calculate_compliance'\n",
    "\n",
    "# Example JSON request payload for CSV\n",
    "payload = {\n",
    "    \"source_type\": \"csv\",\n",
    "    \"file_path\": \"sampleHeartRateData.csv\",\n",
    "    \"time_ranges\": [\n",
    "        [\"08:00\", \"12:00\"],\n",
    "        [\"14:00\", \"18:00\"]\n",
    "    ],\n",
    "    \"daily_compliance_hours\": 4,\n",
    "    \"overall_compliance_percentage\": 80\n",
    "}\n",
    "\n",
    "logging.debug(f\"Sending request to {url} with payload: {payload}\")\n",
    "\n",
    "# Send the POST request\n",
    "response = requests.post(url, data=json.dumps(payload), headers={'Content-Type': 'application/json'})\n",
    "\n",
    "# Print the response\n",
    "logging.debug(f\"Response: {response.json()}\")\n",
    "print(response.json())\n"
   ]
  }
 ],
 "metadata": {
  "kernelspec": {
   "display_name": "Python 3",
   "language": "python",
   "name": "python3"
  },
  "language_info": {
   "codemirror_mode": {
    "name": "ipython",
    "version": 3
   },
   "file_extension": ".py",
   "mimetype": "text/x-python",
   "name": "python",
   "nbconvert_exporter": "python",
   "pygments_lexer": "ipython3",
   "version": "3.11.2"
  }
 },
 "nbformat": 4,
 "nbformat_minor": 2
}
